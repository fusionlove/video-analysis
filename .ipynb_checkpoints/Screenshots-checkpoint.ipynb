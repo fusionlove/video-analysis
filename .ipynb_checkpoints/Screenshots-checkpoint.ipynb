{
 "cells": [
  {
   "cell_type": "code",
   "execution_count": 2,
   "metadata": {},
   "outputs": [
    {
     "ename": "SyntaxError",
     "evalue": "invalid syntax (image_analysis.py, line 62)",
     "output_type": "error",
     "traceback": [
      "Traceback \u001b[0;36m(most recent call last)\u001b[0m:\n",
      "  File \u001b[1;32m\"/Users/fintan/anaconda3/lib/python3.7/site-packages/IPython/core/interactiveshell.py\"\u001b[0m, line \u001b[1;32m3296\u001b[0m, in \u001b[1;35mrun_code\u001b[0m\n    exec(code_obj, self.user_global_ns, self.user_ns)\n",
      "\u001b[0;36m  File \u001b[0;32m\"<ipython-input-2-8d50ddb4c63e>\"\u001b[0;36m, line \u001b[0;32m22\u001b[0;36m, in \u001b[0;35m<module>\u001b[0;36m\u001b[0m\n\u001b[0;31m    import image_analysis as IA\u001b[0m\n",
      "\u001b[0;36m  File \u001b[0;32m\"/Users/fintan/Dropbox/City/Gözde-Fintan/image_analysis.py\"\u001b[0;36m, line \u001b[0;32m62\u001b[0m\n\u001b[0;31m    COLOURS['Cold1'] =\u001b[0m\n\u001b[0m                      ^\u001b[0m\n\u001b[0;31mSyntaxError\u001b[0m\u001b[0;31m:\u001b[0m invalid syntax\n"
     ]
    }
   ],
   "source": [
    "import scipy\n",
    "import pickle, random\n",
    "import pandas as pd\n",
    "import numpy as np\n",
    "import matplotlib.pyplot as plt\n",
    "from time import sleep\n",
    "from skimage.util import img_as_float\n",
    "from sklearn.model_selection import train_test_split\n",
    "\n",
    "import sys\n",
    "sys.path.append(\"D:/Dropbox/tome/python/fx\")\n",
    "#import fx\n",
    "\n",
    "%load_ext autoreload\n",
    "%autoreload 2\n",
    "%matplotlib inline\n",
    "\n",
    "import skimage\n",
    "from skimage.color import rgb2hsv\n",
    "from skimage.io import imread\n",
    "from skimage.io import imsave\n",
    "import image_analysis as IA\n"
   ]
  },
  {
   "cell_type": "code",
   "execution_count": 14,
   "metadata": {},
   "outputs": [],
   "source": [
    "F = 'data/'\n",
    "\n",
    "# ims = ['01.png',\n",
    "#       '02.png', \n",
    "#       '03.png', \n",
    "#       '04.png', \n",
    "#       '05.png', \n",
    "#       '06.png', \n",
    "#       '07.png', \n",
    "#       '08.png', ]\n",
    "\n",
    "ims = ['W5.png',\n",
    "      'C6.png', \n",
    "      'W1.png', \n",
    "      'W3.png', \n",
    "      'C3.png', \n",
    "      'C1.png', \n",
    "      'C4.png', \n",
    "      'C2.png', ]\n",
    "\n",
    "ims = ['W1.png',\n",
    "      'W2.png', \n",
    "      'W3.png', \n",
    "      'W4.png',\n",
    "      'W5.png', \n",
    "      'W6.png', \n",
    "      'C1.png', \n",
    "      'C2.png', \n",
    "      'C3.png', \n",
    "      'C4.png', \n",
    "      'C5.png', \n",
    "      'C6.png', ]"
   ]
  },
  {
   "cell_type": "code",
   "execution_count": 17,
   "metadata": {},
   "outputs": [
    {
     "name": "stdout",
     "output_type": "stream",
     "text": [
      "[219. 210.  52. 255.] W1.png\n",
      "[251.   0.  27. 255.] W2.png\n",
      "[255.   0. 125. 255.] W3.png\n",
      "[104.  27.  10. 255.] W4.png\n",
      "[255.  79.  33. 255.] W5.png\n",
      "[161.   6.  85. 255.] W6.png\n",
      "[  0. 168.  31. 255.] C1.png\n",
      "[ 63. 186.  42. 255.] C2.png\n",
      "[  0. 208. 241. 255.] C3.png\n",
      "[  0. 134.  56. 255.] C4.png\n",
      "[ 23.  57. 249. 255.] C5.png\n",
      "[ 52.   0. 107. 255.] C6.png\n"
     ]
    }
   ],
   "source": [
    "for im in ims:\n",
    "  I = imread(F+im)\n",
    "  I2 = np.mean(I,0)\n",
    "  I3 = np.mean(I2,0)\n",
    "  print(I3,im)"
   ]
  },
  {
   "cell_type": "code",
   "execution_count": 9,
   "metadata": {},
   "outputs": [],
   "source": [
    "I2 = np.mean(I,0)\n",
    "I3 = np.mean(I2,0)"
   ]
  },
  {
   "cell_type": "code",
   "execution_count": 8,
   "metadata": {},
   "outputs": [
    {
     "data": {
      "text/plain": [
       "(120, 4)"
      ]
     },
     "execution_count": 8,
     "metadata": {},
     "output_type": "execute_result"
    }
   ],
   "source": [
    "I2.shape"
   ]
  },
  {
   "cell_type": "code",
   "execution_count": 10,
   "metadata": {},
   "outputs": [
    {
     "data": {
      "text/plain": [
       "array([ 63., 186.,  42., 255.])"
      ]
     },
     "execution_count": 10,
     "metadata": {},
     "output_type": "execute_result"
    }
   ],
   "source": [
    "I3"
   ]
  },
  {
   "cell_type": "code",
   "execution_count": 3,
   "metadata": {},
   "outputs": [
    {
     "name": "stdout",
     "output_type": "stream",
     "text": [
      "[129.7490654   97.34760666  93.3445015 ] Com1.png\n",
      "[86.40116882 64.69316864 59.77134323] Com2.png\n",
      "[76.36225128 60.87407303 51.75866699] Com3.png\n",
      "[79.48569489 73.43889999 37.7695961 ] Com4.png\n",
      "[48.50060018 43.69769796 42.55472565] Com5.png\n",
      "[84.87594223 84.2996521  66.03577805] Com6.png\n",
      "[155.58521271  92.51436996  59.08986664] S1.png\n",
      "[160.67521286 112.43297195  70.450634  ] S2.png\n",
      "[115.07292557 182.62963486  53.78518295] S3.png\n",
      "[185.91750717  83.67290115 187.16868973] S4.png\n",
      "[175.52278519 175.51542664  27.80386353] S5.png\n",
      "[210.55834961 155.34825897  75.88077927] S6.png\n"
     ]
    }
   ],
   "source": [
    "ims = ['Com1.png',\n",
    "      'Com2.png', \n",
    "      'Com3.png', \n",
    "      'Com4.png',\n",
    "      'Com5.png', \n",
    "      'Com6.png', \n",
    "      'S1.png', \n",
    "      'S2.png', \n",
    "      'S3.png', \n",
    "      'S4.png', \n",
    "      'S5.png', \n",
    "      'S6.png', ]\n",
    "\n",
    "F = 'data/images/'\n",
    "\n",
    "for im in ims:\n",
    "  I = imread(F+im)\n",
    "  I2 = np.mean(I,0)\n",
    "  I3 = np.mean(I2,0)\n",
    "  print(I3,im)"
   ]
  },
  {
   "cell_type": "code",
   "execution_count": null,
   "metadata": {},
   "outputs": [],
   "source": []
  }
 ],
 "metadata": {
  "kernelspec": {
   "display_name": "Python 3",
   "language": "python",
   "name": "python3"
  },
  "language_info": {
   "codemirror_mode": {
    "name": "ipython",
    "version": 3
   },
   "file_extension": ".py",
   "mimetype": "text/x-python",
   "name": "python",
   "nbconvert_exporter": "python",
   "pygments_lexer": "ipython3",
   "version": "3.7.3"
  }
 },
 "nbformat": 4,
 "nbformat_minor": 2
}
